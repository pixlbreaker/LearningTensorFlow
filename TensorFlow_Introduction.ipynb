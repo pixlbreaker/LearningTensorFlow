{
  "nbformat": 4,
  "nbformat_minor": 2,
  "metadata": {
    "colab": {
      "name": "TensorFlow-Introduction.ipynb",
      "provenance": []
    },
    "kernelspec": {
      "name": "python3",
      "display_name": "Python 3.9.5 64-bit"
    },
    "language_info": {
      "name": "python",
      "version": "3.9.5",
      "mimetype": "text/x-python",
      "codemirror_mode": {
        "name": "ipython",
        "version": 3
      },
      "pygments_lexer": "ipython3",
      "nbconvert_exporter": "python",
      "file_extension": ".py"
    },
    "interpreter": {
      "hash": "01cf2d930fa887d74b57002510a424a4152298948573e7ea1486452d2c5f8ce9"
    }
  },
  "cells": [
    {
      "cell_type": "markdown",
      "source": [
        "# TensorFlow 2.0 Introduction\r\n",
        "In this notebook you will be given an interactive introduction to TensorFlow 2.0. We will walk through the following topics within the TensorFlow module:\r\n",
        "\r\n",
        "- TensorFlow Install and Setup\r\n",
        "- Representing Tensors\r\n",
        "- Tensor Shape and Rank\r\n",
        "- Types of Tensors\r\n",
        "\r\n",
        "\r\n",
        "If you'd like to follow along without installing TensorFlow on your machine you can use **Google Collaboratory**. Collaboratory is a free Jupyter notebook environment that requires no setup and runs entirely in the cloud."
      ],
      "metadata": {
        "id": "-5u3a4csUPyn"
      }
    },
    {
      "cell_type": "markdown",
      "source": [
        "## What is TensorFlow?\r\n",
        "TensorFlow is an open source machine learning platform. It is owned and maintained by google and is one of the largest open source machine learing libraries in the world.\r\n",
        "\r\n",
        "For our purposes we will discuss to build models that use some of the following things:\r\n",
        "- Image Classification\r\n",
        "- Data Clustering\r\n",
        "- Regresssion\r\n",
        "- Reinforcement Learning\r\n",
        "- Natural Language Processing\r\n",
        "\r\n",
        "Now lets start with the basics"
      ],
      "metadata": {}
    },
    {
      "cell_type": "markdown",
      "source": [
        "## Installing TensorFlow\r\n",
        "To install TensorFlow on your local machine you can use pip.\r\n",
        "```console\r\n",
        "pip install tensorflow\r\n",
        "```"
      ],
      "metadata": {
        "id": "F7ThfbiQl96l"
      }
    },
    {
      "cell_type": "markdown",
      "source": [
        "If you have a CUDA enabled GPU you can install the GPU version of TensorFlow. You will also need to install some other software which can be found here: https://www.tensorflow.org/install/gpu \r\n",
        "```console\r\n",
        "pip install tensorflow-gpu\r\n",
        "```"
      ],
      "metadata": {
        "id": "JYQWyAJ2mez6"
      }
    },
    {
      "cell_type": "markdown",
      "source": [
        "## Importing TensorFlow\n",
        "The first step here is going to be to select the correct version of TensorFlow from within collabratory!\n"
      ],
      "metadata": {
        "id": "JJjNMaSClWhg"
      }
    },
    {
      "cell_type": "code",
      "execution_count": 1,
      "source": [
        "#%tensorflow_version 2.x  # this line is not required unless you are in a notebook"
      ],
      "outputs": [],
      "metadata": {
        "id": "vGcE8x2Gkw9K"
      }
    },
    {
      "cell_type": "code",
      "execution_count": 2,
      "source": [
        "import tensorflow as tf  # now import the tensorflow module\r\n",
        "print(tf.version)  # make sure the version is 2.x"
      ],
      "outputs": [
        {
          "output_type": "stream",
          "name": "stdout",
          "text": [
            "<module 'tensorflow._api.v2.version' from 'C:\\\\Users\\\\Desktop\\\\AppData\\\\Local\\\\Programs\\\\Python\\\\Python39\\\\lib\\\\site-packages\\\\tensorflow\\\\_api\\\\v2\\\\version\\\\__init__.py'>\n"
          ]
        }
      ],
      "metadata": {
        "id": "4N7XbNDVY8P3"
      }
    },
    {
      "cell_type": "markdown",
      "source": [
        "## Tensors \r\n",
        "\"A tensor is a generalization of vectors and matrices to potentially higher dimensions. Internally, TensorFlow represents tensors as n-dimensional arrays of base datatypes.\" ( https://www.tensorflow.org/guide/tensor )\r\n",
        "\r\n",
        "It should't surprise you that tensors are a fundemental apsect of TensorFlow. They are the main objects that are passed around and manipluated throughout the program. Each tensor represents a partialy defined computation that will eventually produce a value. TensorFlow programs work by building a graph of Tensor objects that details how tensors are related. Running different parts of the graph allow results to be generated.\r\n",
        "\r\n",
        "Each tensor has a data type and a shape. \r\n",
        "\r\n",
        "**Data Types Include**: float32, int32, string and others.\r\n",
        "\r\n",
        "**Shape**: Represents the dimension of data.\r\n",
        "\r\n",
        "Just like vectors and matrices tensors can have operations applied to them like addition, subtraction, dot product, cross product etc.\r\n",
        "\r\n",
        "In the next sections we will discuss some different properties of tensors. This is to make you more familiar with how tensorflow represnts data and how you can manipulate this data.\r\n"
      ],
      "metadata": {
        "id": "duDj86TfWFof"
      }
    },
    {
      "cell_type": "markdown",
      "source": [
        "### Creating Tensors\r\n",
        "Below is an example of how to create some different tensors.\r\n",
        "\r\n",
        "You simply define the value of the tensor and the datatype and you are good to go! It's worth mentioning that usually we deal with tensors of numeric data, it is quite rare to see string tensors.\r\n",
        "\r\n",
        "For a full list of datatypes please refer to the following guide.\r\n",
        "\r\n",
        "https://www.tensorflow.org/api_docs/python/tf/dtypes/DType?version=stable"
      ],
      "metadata": {
        "id": "TAk6QhGUwQRt"
      }
    },
    {
      "cell_type": "code",
      "execution_count": 3,
      "source": [
        "string = tf.Variable(\"this is a string\", tf.string) \r\n",
        "number = tf.Variable(324, tf.int16)\r\n",
        "floating = tf.Variable(3.567, tf.float64)"
      ],
      "outputs": [],
      "metadata": {
        "id": "epGskXdjZHzu"
      }
    },
    {
      "cell_type": "markdown",
      "source": [
        "### Rank/Degree of Tensors\r\n",
        "Another word for rank is degree, these terms simply mean the number of dimensions involved in the tensor. What we created above is a *tensor of rank 0*, also known as a scalar. \r\n",
        "\r\n",
        "Now we'll create some tensors of higher degrees/ranks."
      ],
      "metadata": {
        "id": "D0_H71HMaE-5"
      }
    },
    {
      "cell_type": "code",
      "execution_count": 4,
      "source": [
        "rank1_tensor = tf.Variable([\"Test\"], tf.string) \r\n",
        "rank2_tensor = tf.Variable([[\"test\", \"ok\"], [\"test\", \"yes\"]], tf.string)"
      ],
      "outputs": [],
      "metadata": {
        "id": "hX_Cc5IfjQ6-"
      }
    },
    {
      "cell_type": "markdown",
      "source": [
        "**To determine the rank** of a tensor we can call the following method."
      ],
      "metadata": {
        "id": "55zuGMc7nHjC"
      }
    },
    {
      "cell_type": "code",
      "execution_count": 5,
      "source": [
        "tf.rank(rank2_tensor)"
      ],
      "outputs": [
        {
          "output_type": "execute_result",
          "data": {
            "text/plain": [
              "<tf.Tensor: shape=(), dtype=int32, numpy=2>"
            ]
          },
          "metadata": {},
          "execution_count": 5
        }
      ],
      "metadata": {
        "id": "Zrj0rAWLnMNv",
        "colab": {
          "base_uri": "https://localhost:8080/",
          "height": 34
        },
        "outputId": "b8b34a8c-fc6e-40c6-9fd6-294d1253631e"
      }
    },
    {
      "cell_type": "markdown",
      "source": [
        "The rank of a tensor is direclty related to the deepest level of nested lists. You can see in the first example ```[\"Test\"]``` is a rank 1 tensor as the deepest level of nesting is 1. \n",
        "Where in the second example ```[[\"test\", \"ok\"], [\"test\", \"yes\"]]``` is a rank 2 tensor as the deepest level of nesting is 2."
      ],
      "metadata": {
        "id": "hTv4Gz67pQbx"
      }
    },
    {
      "cell_type": "markdown",
      "source": [
        "### Shape of Tensors\r\n",
        "Now that we've talked about the rank of tensors it's time to talk about the shape. The shape of a tensor is simply the number of elements that exist in each dimension. TensorFlow will try to determine the shape of a tensor but sometimes it may be unknown.\r\n",
        "\r\n",
        "To **get the shape** of a tensor we use the shape attribute.\r\n"
      ],
      "metadata": {
        "id": "RaVrANK8q21q"
      }
    },
    {
      "cell_type": "code",
      "execution_count": 12,
      "source": [
        "rank1_tensor.shape\r\n",
        "rank2_tensor.shape"
      ],
      "outputs": [
        {
          "output_type": "execute_result",
          "data": {
            "text/plain": [
              "TensorShape([1])"
            ]
          },
          "metadata": {},
          "execution_count": 12
        }
      ],
      "metadata": {
        "id": "L_NRXsFOraYa"
      }
    },
    {
      "cell_type": "markdown",
      "source": [
        "### Changing Shape\r\n",
        "The number of elements of a tensor is the product of the sizes of all its shapes. There are often many shapes that have the same number of elements, making it convient to be able to change the shape of a tensor.\r\n",
        "\r\n",
        "The example below shows how to change the shape of a tensor."
      ],
      "metadata": {
        "id": "wVDmLJeFs086"
      }
    },
    {
      "cell_type": "code",
      "execution_count": 7,
      "source": [
        "tensor1 = tf.ones([1,2,3])  # tf.ones() creates a shape [1,2,3] tensor full of ones\r\n",
        "tensor2 = tf.reshape(tensor1, [2,3,1])  # reshape existing data to shape [2,3,1]\r\n",
        "tensor3 = tf.reshape(tensor2, [3, -1])  # -1 tells the tensor to calculate the size of the dimension in that place\r\n",
        "                                        # this will reshape the tensor to [3,3]\r\n",
        "                                                                             \r\n",
        "# The numer of elements in the reshaped tensor MUST match the number in the original"
      ],
      "outputs": [],
      "metadata": {
        "id": "dZ8Rbs2xtNqj"
      }
    },
    {
      "cell_type": "markdown",
      "source": [
        "Now let's have a look at our different tensors."
      ],
      "metadata": {
        "id": "M631k7UDv1Wh"
      }
    },
    {
      "cell_type": "code",
      "execution_count": 8,
      "source": [
        "print(tensor1)\r\n",
        "print(tensor2)\r\n",
        "print(tensor3)\r\n",
        "# Notice the changes in shape"
      ],
      "outputs": [
        {
          "output_type": "stream",
          "name": "stdout",
          "text": [
            "tf.Tensor(\n",
            "[[[1. 1. 1.]\n",
            "  [1. 1. 1.]]], shape=(1, 2, 3), dtype=float32)\n",
            "tf.Tensor(\n",
            "[[[1.]\n",
            "  [1.]\n",
            "  [1.]]\n",
            "\n",
            " [[1.]\n",
            "  [1.]\n",
            "  [1.]]], shape=(2, 3, 1), dtype=float32)\n",
            "tf.Tensor(\n",
            "[[1. 1.]\n",
            " [1. 1.]\n",
            " [1. 1.]], shape=(3, 2), dtype=float32)\n"
          ]
        }
      ],
      "metadata": {
        "id": "IFNmUxaEv6s3"
      }
    },
    {
      "cell_type": "markdown",
      "source": [
        "### Slicing Tensors\r\n",
        "You may be familiar with the term \"slice\" in python and its use on lists, tuples etc. Well the slice operator can be used on tensors to select specific axes or elements.\r\n",
        "\r\n",
        "When we slice or select elements from a tensor, we can use comma seperated values inside the set of square brackets. Each subsequent value refrences a different dimension of the tensor.\r\n",
        "\r\n",
        "Ex: ```tensor[dim1, dim2, dim3]```\r\n",
        "\r\n",
        "I've included a few examples that will hopefully help illustrate how we can manipulate tensors with the slice operator."
      ],
      "metadata": {
        "id": "q88pJucBolsp"
      }
    },
    {
      "cell_type": "code",
      "execution_count": 9,
      "source": [
        "# Creating a 2D tensor\r\n",
        "matrix = [[1,2,3,4,5],\r\n",
        "          [6,7,8,9,10],\r\n",
        "          [11,12,13,14,15],\r\n",
        "          [16,17,18,19,20]]\r\n",
        "\r\n",
        "tensor = tf.Variable(matrix, dtype=tf.int32) \r\n",
        "print(tf.rank(tensor))\r\n",
        "print(tensor.shape)"
      ],
      "outputs": [
        {
          "output_type": "stream",
          "name": "stdout",
          "text": [
            "tf.Tensor(2, shape=(), dtype=int32)\n",
            "(4, 5)\n"
          ]
        }
      ],
      "metadata": {
        "id": "b0YrD-hRqD-W"
      }
    },
    {
      "cell_type": "code",
      "execution_count": 10,
      "source": [
        "# Now lets select some different rows and columns from our tensor\r\n",
        "\r\n",
        "three = tensor[0,2]  # selects the 3rd element from the 1st row\r\n",
        "print(three)  # -> 3\r\n",
        "\r\n",
        "row1 = tensor[0]  # selects the first row\r\n",
        "print(row1)\r\n",
        "\r\n",
        "column1 = tensor[:, 0]  # selects the first column\r\n",
        "print(column1)\r\n",
        "\r\n",
        "row_2_and_4 = tensor[1::2]  # selects second and fourth row\r\n",
        "print(row_2_and_4)\r\n",
        "\r\n",
        "column_1_in_row_2_and_3 = tensor[1:3, 0]\r\n",
        "print(column_1_in_row_2_and_3)\r\n"
      ],
      "outputs": [
        {
          "output_type": "stream",
          "name": "stdout",
          "text": [
            "tf.Tensor(3, shape=(), dtype=int32)\n",
            "tf.Tensor([1 2 3 4 5], shape=(5,), dtype=int32)\n",
            "tf.Tensor([ 1  6 11 16], shape=(4,), dtype=int32)\n",
            "tf.Tensor(\n",
            "[[ 6  7  8  9 10]\n",
            " [16 17 18 19 20]], shape=(2, 5), dtype=int32)\n",
            "tf.Tensor([ 6 11], shape=(2,), dtype=int32)\n"
          ]
        }
      ],
      "metadata": {
        "id": "Wd85uGI7qyfC"
      }
    },
    {
      "cell_type": "markdown",
      "source": [
        "### Types of Tensors\r\n",
        "Before we go to far, I will mention that there are diffent types of tensors. These are the most used and we will talk more in depth about each as they are used.\r\n",
        "- Variable\r\n",
        "- Constant\r\n",
        "- Placeholder\r\n",
        "- SparseTensor\r\n",
        "\r\n",
        "With the execption of ```Variable``` all these tensors are immuttable, meaning their value may not change during execution.\r\n",
        "\r\n",
        "For now, it is enough to understand that we use the Variable tensor when we want to potentially change the value of our tensor.\r\n",
        "\r\n"
      ],
      "metadata": {
        "id": "UU4MMhB_rxvz"
      }
    },
    {
      "cell_type": "markdown",
      "source": [
        "### Evalutating Tensors\r\n",
        "\r\n",
        "There will be some times throughout this guide that we need to evaluate a tensor. In other words, get its value. Since tensors represent a parially complete computation we will sometiems need to run what's called a session to evaluate the tensor.\r\n",
        "\r\n",
        "There are many different ways to achineve this but I will note the simplest way below."
      ],
      "metadata": {}
    },
    {
      "cell_type": "code",
      "execution_count": null,
      "source": [
        "with tf.Session() as sess:  # creates a session during the default graph\r\n",
        "    tensor.eval()           # tensors will of course be the name of your tensor."
      ],
      "outputs": [],
      "metadata": {}
    },
    {
      "cell_type": "markdown",
      "source": [
        "In the code above we evaluated the tensor variable that we stored in the **default graph**. The defalut graphs holds all operations bit specififed to any other graph"
      ],
      "metadata": {}
    },
    {
      "cell_type": "markdown",
      "source": [
        "# Sources\r\n",
        "Most of the information is taken direclty from the TensorFlow website which can be found below.\r\n",
        "\r\n",
        "https://www.tensorflow.org/guide/tensor"
      ],
      "metadata": {
        "id": "F2OoXbe7aSVl"
      }
    },
    {
      "cell_type": "code",
      "execution_count": 16,
      "source": [
        "t = tf.zeros([5,5,5,5])\r\n",
        "t= tf.reshape(t, [625])\r\n",
        "print(t)"
      ],
      "outputs": [
        {
          "output_type": "stream",
          "name": "stdout",
          "text": [
            "tf.Tensor(\n",
            "[0. 0. 0. 0. 0. 0. 0. 0. 0. 0. 0. 0. 0. 0. 0. 0. 0. 0. 0. 0. 0. 0. 0. 0.\n",
            " 0. 0. 0. 0. 0. 0. 0. 0. 0. 0. 0. 0. 0. 0. 0. 0. 0. 0. 0. 0. 0. 0. 0. 0.\n",
            " 0. 0. 0. 0. 0. 0. 0. 0. 0. 0. 0. 0. 0. 0. 0. 0. 0. 0. 0. 0. 0. 0. 0. 0.\n",
            " 0. 0. 0. 0. 0. 0. 0. 0. 0. 0. 0. 0. 0. 0. 0. 0. 0. 0. 0. 0. 0. 0. 0. 0.\n",
            " 0. 0. 0. 0. 0. 0. 0. 0. 0. 0. 0. 0. 0. 0. 0. 0. 0. 0. 0. 0. 0. 0. 0. 0.\n",
            " 0. 0. 0. 0. 0. 0. 0. 0. 0. 0. 0. 0. 0. 0. 0. 0. 0. 0. 0. 0. 0. 0. 0. 0.\n",
            " 0. 0. 0. 0. 0. 0. 0. 0. 0. 0. 0. 0. 0. 0. 0. 0. 0. 0. 0. 0. 0. 0. 0. 0.\n",
            " 0. 0. 0. 0. 0. 0. 0. 0. 0. 0. 0. 0. 0. 0. 0. 0. 0. 0. 0. 0. 0. 0. 0. 0.\n",
            " 0. 0. 0. 0. 0. 0. 0. 0. 0. 0. 0. 0. 0. 0. 0. 0. 0. 0. 0. 0. 0. 0. 0. 0.\n",
            " 0. 0. 0. 0. 0. 0. 0. 0. 0. 0. 0. 0. 0. 0. 0. 0. 0. 0. 0. 0. 0. 0. 0. 0.\n",
            " 0. 0. 0. 0. 0. 0. 0. 0. 0. 0. 0. 0. 0. 0. 0. 0. 0. 0. 0. 0. 0. 0. 0. 0.\n",
            " 0. 0. 0. 0. 0. 0. 0. 0. 0. 0. 0. 0. 0. 0. 0. 0. 0. 0. 0. 0. 0. 0. 0. 0.\n",
            " 0. 0. 0. 0. 0. 0. 0. 0. 0. 0. 0. 0. 0. 0. 0. 0. 0. 0. 0. 0. 0. 0. 0. 0.\n",
            " 0. 0. 0. 0. 0. 0. 0. 0. 0. 0. 0. 0. 0. 0. 0. 0. 0. 0. 0. 0. 0. 0. 0. 0.\n",
            " 0. 0. 0. 0. 0. 0. 0. 0. 0. 0. 0. 0. 0. 0. 0. 0. 0. 0. 0. 0. 0. 0. 0. 0.\n",
            " 0. 0. 0. 0. 0. 0. 0. 0. 0. 0. 0. 0. 0. 0. 0. 0. 0. 0. 0. 0. 0. 0. 0. 0.\n",
            " 0. 0. 0. 0. 0. 0. 0. 0. 0. 0. 0. 0. 0. 0. 0. 0. 0. 0. 0. 0. 0. 0. 0. 0.\n",
            " 0. 0. 0. 0. 0. 0. 0. 0. 0. 0. 0. 0. 0. 0. 0. 0. 0. 0. 0. 0. 0. 0. 0. 0.\n",
            " 0. 0. 0. 0. 0. 0. 0. 0. 0. 0. 0. 0. 0. 0. 0. 0. 0. 0. 0. 0. 0. 0. 0. 0.\n",
            " 0. 0. 0. 0. 0. 0. 0. 0. 0. 0. 0. 0. 0. 0. 0. 0. 0. 0. 0. 0. 0. 0. 0. 0.\n",
            " 0. 0. 0. 0. 0. 0. 0. 0. 0. 0. 0. 0. 0. 0. 0. 0. 0. 0. 0. 0. 0. 0. 0. 0.\n",
            " 0. 0. 0. 0. 0. 0. 0. 0. 0. 0. 0. 0. 0. 0. 0. 0. 0. 0. 0. 0. 0. 0. 0. 0.\n",
            " 0. 0. 0. 0. 0. 0. 0. 0. 0. 0. 0. 0. 0. 0. 0. 0. 0. 0. 0. 0. 0. 0. 0. 0.\n",
            " 0. 0. 0. 0. 0. 0. 0. 0. 0. 0. 0. 0. 0. 0. 0. 0. 0. 0. 0. 0. 0. 0. 0. 0.\n",
            " 0. 0. 0. 0. 0. 0. 0. 0. 0. 0. 0. 0. 0. 0. 0. 0. 0. 0. 0. 0. 0. 0. 0. 0.\n",
            " 0. 0. 0. 0. 0. 0. 0. 0. 0. 0. 0. 0. 0. 0. 0. 0. 0. 0. 0. 0. 0. 0. 0. 0.\n",
            " 0.], shape=(625,), dtype=float32)\n"
          ]
        }
      ],
      "metadata": {}
    }
  ]
}